{
 "cells": [
  {
   "cell_type": "markdown",
   "metadata": {},
   "source": [
    "# fMRI Smoothing with NILearn in Parallel \n",
    "\n",
    "  By Kyle Baacke\n",
    "  3/13/2022\n",
    "\n",
    "## Description:\n",
    "  You may find yourself wanting to run a process in parallel (i.e. multiple processes running simultaneously) within a python script. In this example, we use a parallel for loop in python to smooth fMRI images using nilearn. The process can be divided into 3 main steps: 1) setting up string patterns to read and write files, 2) defining a function to run in parallel, and 3) calling the function in parallel. This snippet will go through each process with an example which callas a python script using variables in nested for loops.\n",
    "\n",
    "  In this example, we ierate through each subject available from the HCP_1200 dataset, read in each of their task-fMRI sessions, smooth those 4 dimensional images using nilearn, and save the smoothed images.\n",
    "    \n",
    "## Notes and Qualifiers:\n",
    "  This code has been written and tested with Python 3.8 and 3.9 on Ubuntu, Windows 10, and OpenSUSE. \n",
    "\n",
    "## Helpful Links\n",
    "  https://nilearn.github.io/modules/generated/nilearn.image.smooth_img.html\n",
    "  https://joblib.readthedocs.io/en/latest/parallel.html\n",
    "  \n",
    "## 0) Setup\n",
    "\n",
    "### Imports"
   ]
  },
  {
   "cell_type": "code",
   "execution_count": 2,
   "metadata": {},
   "outputs": [],
   "source": [
    "from nilearn import plotting, image\n",
    "import datetime as dt\n",
    "import os\n",
    "from joblib import Parallel, delayed\n",
    "sep = os.path.sep\n",
    "# I use sep instead of manually typing the path to make changing between OSs easier"
   ]
  },
  {
   "cell_type": "markdown",
   "metadata": {},
   "source": [
    "## 1) Set up String Patterns"
   ]
  },
  {
   "cell_type": "code",
   "execution_count": 5,
   "metadata": {},
   "outputs": [],
   "source": [
    "# Path to dataset\n",
    "DATA_PATH = f'S:{sep}HCP{sep}HCP_1200'\n",
    "# Pattern of path to functional scan\n",
    "NIFTI_PATH = '{outdir}{sep}{SUBJECT}{sep}MNINonLinear{sep}Results{sep}{TIME}_{RUN}{sep}{TIME}_{RUN}.nii.gz'\n",
    "# Pattern of ourpur path and filename\n",
    "OUTPUT_PATH = '{outdir}{sep}{SUBJECT}{sep}MNINonLinear{sep}Results{sep}{TIME}_{RUN}{sep}{TIME}_{RUN}_nilearn-smoothed.nii.gz'\n",
    "# List of subject folders in DATA_PATH\n",
    "HCP_subject_list = os.listdir(DATA_PATH)\n",
    "# List session names to iterate through\n",
    "# In this case, we only want to run on the Worrking Memory session (WM), so the other sessions in the list are commented out\n",
    "HCP_Session_list = [\n",
    "    # \"tfMRI_MOTOR\",\n",
    "    \"tfMRI_WM\"#,\n",
    "    # \"tfMRI_EMOTION\",\n",
    "    # \"tfMRI_GAMBLING\",\n",
    "    # \"tfMRI_LANGUAGE\",\n",
    "    # \"tfMRI_RELATIONAL\",\n",
    "    # \"tfMRI_SOCIAL\"\n",
    "  ]\n",
    "# List run identifiers\n",
    "HCP_Run_list = ['RL','LR']"
   ]
  },
  {
   "cell_type": "markdown",
   "metadata": {},
   "source": [
    "## 2) Defining function\n",
    "  The nilearn smooth_img function does most of the heavy lifting here, but we want to make things even easier and bundle in a running measure of the storage space used by this operation. In this case, we will only run in parallel on the subject level. However, it is just as manageable to parallelize on the level of the session or the session and the run. "
   ]
  },
  {
   "cell_type": "code",
   "execution_count": 7,
   "metadata": {},
   "outputs": [],
   "source": [
    "def smooth_subject(SUBJECT):\n",
    "  # Create and empty list to store the file sizes as we go\n",
    "  size_list = []\n",
    "  # Iterate through the lists of strings we created in step 1\n",
    "  for TIME in HCP_Session_list:\n",
    "    for RUN in HCP_Run_list:\n",
    "      # Format the patterns we created before to target specific runs\n",
    "      input_path = NIFTI_PATH.format(\n",
    "        outdir = DATA_PATH,\n",
    "        SUBJECT = SUBJECT,\n",
    "        TIME = TIME,\n",
    "        RUN = RUN,\n",
    "        sep = sep\n",
    "      )\n",
    "      output_path = OUTPUT_PATH.format(\n",
    "        outdir = DATA_PATH,\n",
    "        SUBJECT = SUBJECT,\n",
    "        TIME = TIME,\n",
    "        RUN = RUN,\n",
    "        sep = sep\n",
    "      )\n",
    "      try:\n",
    "        smooth_img = image.smooth_img(input_path, 6)\n",
    "        smooth_img.to_filename(output_path)\n",
    "        size_list.append(os.path.getsize(output_path))\n",
    "      except:\n",
    "        print(f'File not found: {output_path}')\n",
    "  return sum(size_list)"
   ]
  },
  {
   "cell_type": "markdown",
   "metadata": {},
   "source": [
    "## 3) Call Function in Parallel"
   ]
  },
  {
   "cell_type": "code",
   "execution_count": 8,
   "metadata": {},
   "outputs": [
    {
     "name": "stdout",
     "output_type": "stream",
     "text": [
      "Done.  0:04:01.568659 7.6383  GB\n"
     ]
    }
   ],
   "source": [
    "# Make note of start time\n",
    "start_time = dt.datetime.now()\n",
    "# Save the output of the function calls called in parallel to a list\n",
    "# ^^^^^^^   Call the Parallel fuunction with n_jobs={the number of threads you want to use}\n",
    "#    |      ^^^^^^^^^^^^^^^^^  Call the function 'delayed' until the previous 6 jobs have completed\n",
    "#    |              |          ^^^^^^^ the function you want to run\n",
    "#    |              |             |    ^^^^^^^^^^^^^^  the variable you want to pass to the function\n",
    "#    |              |             |          |         ^^^^^^^  Assigning the variable using a for loop\n",
    "#    |              |             |          |            |     ^^^^^^^^^^^^^^^^^^^^^^^^^^^^^^^^^^^^\n",
    "size_list = Parallel(n_jobs=6)(delayed(smooth_subject)(SUBJECT) for SUBJECT in HCP_subject_list[:6])\n",
    "# Note the end time\n",
    "end_time = dt.datetime.now()\n",
    "# Print the runtime and filesize used to the console\n",
    "print('Done. ', end_time-start_time, round(float(sum(size_list))/1000000000.0, 4), ' GB')"
   ]
  }
 ],
 "metadata": {
  "kernelspec": {
   "display_name": "Python 3.9.2 64-bit",
   "metadata": {
    "interpreter": {
     "hash": "8a9165a38afef2ca63a793efc4b24bbf7f99f4e695b0f158539651a5958eadc2"
    }
   },
   "name": "python3"
  },
  "language_info": {
   "codemirror_mode": {
    "name": "ipython",
    "version": 3
   },
   "file_extension": ".py",
   "mimetype": "text/x-python",
   "name": "python",
   "nbconvert_exporter": "python",
   "pygments_lexer": "ipython3",
   "version": "3.9.2-final"
  },
  "orig_nbformat": 2
 },
 "nbformat": 4,
 "nbformat_minor": 2
}