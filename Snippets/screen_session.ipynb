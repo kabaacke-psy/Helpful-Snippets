{
 "cells": [
  {
   "cell_type": "markdown",
   "metadata": {},
   "source": [
    "# Using Screen Sessions\n",
    "\n",
    "By Kyle Baacke\n",
    "3/13/2022\n",
    "\n",
    "## Description\n",
    "  This snippet goes over basic usage of the screen command, which allows you to save your progress in a termial session when accessing the cluster locally of via SSH.\n",
    "\n",
    "## Helpful Links:\n",
    "  https://linuxize.com/post/how-to-use-linux-screen/\n",
    "\n",
    "## 1) Start a screen session\n",
    "  To start a screen session, enter the following command in the remote terminal window. It helps to name the session using the -S flag followed by the name you want to give your session."
   ]
  },
  {
   "cell_type": "markdown",
   "metadata": {},
   "source": [
    "```bash\n",
    "screen -S {SESSION_NAME}\n",
    "```"
   ]
  },
  {
   "cell_type": "markdown",
   "metadata": {},
   "source": [
    "Now, when you disconnect from your SSH session, your place will be kept and the session you were running will stay up. When you log back in, you can check whch screen sessions for your account are active by using the *ls* flag:"
   ]
  },
  {
   "cell_type": "markdown",
   "metadata": {},
   "source": [
    "```bash\n",
    "screen -ls\n",
    "```"
   ]
  },
  {
   "cell_type": "markdown",
   "metadata": {},
   "source": [
    "To resume a previous screen session, use the following command, followed by the identifier of the screen session."
   ]
  },
  {
   "cell_type": "markdown",
   "metadata": {},
   "source": [
    "```bash\n",
    "screen -r {SESSION_NAME}\n",
    "```"
   ]
  },
  {
   "cell_type": "markdown",
   "metadata": {},
   "source": [
    "You can also kill a detached screen session without re-attaching to that session."
   ]
  },
  {
   "cell_type": "markdown",
   "metadata": {},
   "source": [
    "```bash\n",
    "screen -X -S {SESSION_NAME} kill\n",
    "```"
   ]
  },
  {
   "cell_type": "markdown",
   "metadata": {},
   "source": [
    "If the screen session says that it is attached, but you are not connected to it, you can detach it using the *d* flag."
   ]
  },
  {
   "cell_type": "markdown",
   "metadata": {},
   "source": [
    "```bash\n",
    "screen -r -d {SESSION_NAME}\n",
    "```"
   ]
  }
 ],
 "metadata": {
  "kernelspec": {
   "display_name": "Python 3.9.2 64-bit",
   "metadata": {
    "interpreter": {
     "hash": "8a9165a38afef2ca63a793efc4b24bbf7f99f4e695b0f158539651a5958eadc2"
    }
   },
   "name": "python3"
  },
  "language_info": {
   "name": "python",
   "nbconvert_exporter": "python",
   "version": "3.9.2-final"
  },
  "orig_nbformat": 2
 },
 "nbformat": 4,
 "nbformat_minor": 2
}