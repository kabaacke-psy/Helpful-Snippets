{
 "cells": [
  {
   "cell_type": "markdown",
   "metadata": {},
   "source": [
    "# Transferring files over SSH (Secure Shell) using Python\n",
    "\n",
    "By Kyle Baacke\n",
    "3/13/2022\n",
    "\n",
    "## Description:\n",
    "  You may want to transfer a file or list of files to or from the cluster without using a physical drive. This can be accomplished over SSH using SCP. Alternatively, you can run SCP via python in order to streamline your analysis or data management processes. This snippet provides examples of how this can be accomplished.\n",
    "\n",
    "## Helpful Links:\n",
    "  https://stackoverflow.com/questions/250283/how-to-scp-in-python\n",
    "  https://pypi.org/project/scp/\n",
    "  https://pypi.org/project/scpclient/\n",
    "\n",
    "## 0) Setup"
   ]
  },
  {
   "cell_type": "code",
   "execution_count": 1,
   "metadata": {},
   "outputs": [],
   "source": [
    "import os\n",
    "import shutil\n",
    "import datetime as dt\n",
    "import paramiko\n",
    "from scp import SCPClient\n",
    "import zipfile # Only required if you want to zip before sending\n",
    "import getpass # Used for getting password from the user in a prompt rather than having your password in the code (which is a very, very bad practice)\n",
    "\n"
   ]
  },
  {
   "cell_type": "markdown",
   "metadata": {},
   "source": [
    "## 1) Create function to instantiate a SSH Client to connect to the remote machine"
   ]
  },
  {
   "cell_type": "code",
   "execution_count": 2,
   "metadata": {},
   "outputs": [],
   "source": [
    "def createSSHClient(server, port, user, password):\n",
    "    client = paramiko.SSHClient()\n",
    "    client.load_system_host_keys()\n",
    "    client.set_missing_host_key_policy(paramiko.AutoAddPolicy())\n",
    "    client.connect(server, port, user, password)\n",
    "    return client"
   ]
  },
  {
   "cell_type": "markdown",
   "metadata": {},
   "source": [
    "## 2) Choose a file pattern or list of patterns to transfer"
   ]
  },
  {
   "cell_type": "markdown",
   "metadata": {},
   "source": [
    "  This sets up some strings to keep track of the dicetories in both the local and remote systems. *accuracy_path*  points to a specific file."
   ]
  },
  {
   "cell_type": "code",
   "execution_count": 3,
   "metadata": {},
   "outputs": [],
   "source": [
    "# The following line is ot enable the script to work on all opreating systems by dynamically assigning what the file deliminer will be.\n",
    "sep = os.path.sep\n",
    "\n",
    "# This line is to specify what the deliminer is on the remote system. Since the cluster is linux, the following should always work\n",
    "remote_sep = '/'\n",
    "\n",
    "# Identify the base of the paths for the local directory and the remote directory\n",
    "base = f'S:\\\\'\n",
    "remote_base = '/mnt/usb1'\n",
    "\n",
    "output_path = '{base}{sep}MSC-HCP_analysis{sep}'"
   ]
  },
  {
   "cell_type": "markdown",
   "metadata": {},
   "source": [
    "## 3) Connect to SSH Session"
   ]
  },
  {
   "cell_type": "code",
   "execution_count": 4,
   "metadata": {},
   "outputs": [],
   "source": [
    "# Store username as a variable\n",
    "username = 'kbaacke'\n",
    "# Save hostname as a variable\n",
    "hostname = 'r2.psych.uiuc.edu'\n",
    "# Start SSH Session\n",
    "# Request for password, without displaying the passowrd or soring it as a variable outside of the function call\n",
    "ssh = createSSHClient(f'{hostname}', 22, f'{username}', getpass.getpass(f'Password for {username}@{hostname}:'))\n",
    "# Start SCP Client on ssh client\n",
    "scp = SCPClient(ssh.get_transport())"
   ]
  },
  {
   "cell_type": "markdown",
   "metadata": {},
   "source": [
    "## 4) Transfer files\n",
    "\n",
    "### 4.1) Transfer single files\n",
    "  Use scp.get(*target_on_remote*, *target_on_local*) to transfer a single file from the remote device to your local device.\n",
    "  Use scp.get(*target_on_local*, *target_on_remote*) to transfer a single file from your local device to the remote device.\n",
    "  It is convenient to run this in a loop in case you want to add other files later witout "
   ]
  },
  {
   "cell_type": "code",
   "execution_count": 7,
   "metadata": {},
   "outputs": [
    {
     "name": "stdout",
     "output_type": "stream",
     "text": [
      "r2.psych.uiuc.edu:/mnt/usb1/MSC-HCP_analysis/Prediction_Accuracies.csv saved locally as S:\\\\MSC-HCP_analysis\\Prediction_Accuracies.csv\n"
     ]
    }
   ],
   "source": [
    "output_path = '{base}{sep}MSC-HCP_analysis{sep}'\n",
    "accuracy_path = output_path + 'Prediction_Accuracies.csv'\n",
    "local_path = accuracy_path.format(base = base, sep=sep)\n",
    "remote_path = accuracy_path.format(base = remote_base, sep=remote_sep)\n",
    "scp.get(remote_path, local_path)\n",
    "print(f'{hostname}:{remote_path} saved locally as {local_path}')"
   ]
  },
  {
   "cell_type": "markdown",
   "metadata": {},
   "source": [
    "  It is convenient to run this in a loop in case you want to add other files later witout too much effort."
   ]
  },
  {
   "cell_type": "code",
   "execution_count": 8,
   "metadata": {},
   "outputs": [
    {
     "name": "stdout",
     "output_type": "stream",
     "text": [
      "r2.psych.uiuc.edu:/mnt/usb1/MSC-HCP_analysis/Prediction_Accuracies.csv saved locally as S:\\\\MSC-HCP_analysis\\Prediction_Accuracies.csv\n"
     ]
    }
   ],
   "source": [
    "files_to_transfer = [\n",
    "  accuracy_path\n",
    "]\n",
    "for filename in files_to_transfer:\n",
    "  try:\n",
    "    local_path = filename.format(base = base, sep=sep)\n",
    "    remote_path = filename.format(base = remote_base, sep=remote_sep)\n",
    "    scp.get(remote_path, local_path)\n",
    "    print(f'{hostname}:{remote_path} saved locally as {local_path}')\n",
    "  except Exception as e:\n",
    "    print(f'Error transferring {hostname}:{remote_path} to local:{local_path}: {e}')\n",
    "  "
   ]
  },
  {
   "cell_type": "markdown",
   "metadata": {},
   "source": [
    "### 4.2) Transfer Directories\n",
    "  You can also choose to transfer entire directories. To do this, you have two options: you can transfer the folder using the recursive option (*4.2.1*) or by compressing the files before transfer(*4.2.2*). Either way, you need patterns for the folders that you want to transfer."
   ]
  },
  {
   "cell_type": "code",
   "execution_count": null,
   "metadata": {},
   "outputs": [],
   "source": [
    "output_path = '{base}{sep}MSC-HCP_analysis{sep}'\n",
    "metapath = output_path + 'metadata'\n",
    "confpath =  output_path + 'confusion'\n",
    "classpath = output_path + 'classification'\n",
    "inputpath = output_path + 'inputs'\n",
    "\n",
    "folder_patterns = [metapath, confpath, classpath, inputpath]"
   ]
  },
  {
   "cell_type": "markdown",
   "metadata": {},
   "source": [
    "\n",
    "#### 4.2.1) Transfer Recursively"
   ]
  },
  {
   "cell_type": "code",
   "execution_count": null,
   "metadata": {},
   "outputs": [],
   "source": [
    "for foldername in folder_patterns:\n",
    "  try:\n",
    "    local_path = foldername.format(base = base, sep=sep)\n",
    "    remote_path = foldername.format(base = remote_base, sep=remote_sep)\n",
    "    scp.get(remote_path, local_path, recursive=True)\n",
    "    print(f'{hostname}:{remote_path}{remote_sep}* saved locally as {local_path}{sep}*')\n",
    "  except Exception as e:\n",
    "    print(f'Error transferring {hostname}:{remote_path}{remote_sep}* to local:{local_path}{sep}*: {e}')"
   ]
  },
  {
   "cell_type": "markdown",
   "metadata": {},
   "source": [
    "### 4.2.2) Compress before sending"
   ]
  },
  {
   "cell_type": "code",
   "execution_count": null,
   "metadata": {},
   "outputs": [],
   "source": [
    "base = f'S:\\\\Code\\\\'\n",
    "remote_base = '/mnt/usb1/Code/'\n",
    "archive_pattern = '{base}MSC_HCP.zip'\n",
    "# Compress the file and save with the .zip extension\n",
    "shutil.make_archive(f'{base}MSC_HCP', 'zip', f'{base}MSC_HCP')\n",
    "# Transfer Archive\n",
    "local_path = archive_pattern.format(base = base, sep=sep) + '.zip'\n",
    "remote_path = archive_pattern.format(base = remote_base, sep=remote_sep) + '.zip'\n",
    "scp.put(local_path, remote_path)"
   ]
  }
 ],
 "metadata": {
  "kernelspec": {
   "display_name": "Python 3.9.2 64-bit",
   "metadata": {
    "interpreter": {
     "hash": "8a9165a38afef2ca63a793efc4b24bbf7f99f4e695b0f158539651a5958eadc2"
    }
   },
   "name": "python3"
  },
  "language_info": {
   "codemirror_mode": {
    "name": "ipython",
    "version": 3
   },
   "file_extension": ".py",
   "mimetype": "text/x-python",
   "name": "python",
   "nbconvert_exporter": "python",
   "pygments_lexer": "ipython3",
   "version": "3.9.2-final"
  },
  "orig_nbformat": 2
 },
 "nbformat": 4,
 "nbformat_minor": 2
}